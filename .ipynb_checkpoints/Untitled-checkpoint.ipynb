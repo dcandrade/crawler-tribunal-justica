{
 "cells": [
  {
   "cell_type": "code",
   "execution_count": 1,
   "metadata": {},
   "outputs": [],
   "source": [
    "from selenium import webdriver\n",
    "URL = \"https://esaj.tjsp.jus.br/cpopg/open.do\"\n",
    "from utils import clear_string, clear_strings"
   ]
  },
  {
   "cell_type": "code",
   "execution_count": 2,
   "metadata": {},
   "outputs": [],
   "source": [
    "driver = webdriver.Chrome()"
   ]
  },
  {
   "cell_type": "code",
   "execution_count": 3,
   "metadata": {},
   "outputs": [],
   "source": [
    "driver.get(URL)"
   ]
  },
  {
   "cell_type": "code",
   "execution_count": 4,
   "metadata": {
    "scrolled": true
   },
   "outputs": [
    {
     "data": {
      "text/plain": [
       "[<selenium.webdriver.remote.webelement.WebElement (session=\"cdd6e389701f9c87a8a8f10cf80d6335\", element=\"0.34832818022526535-1\")>,\n",
       " <selenium.webdriver.remote.webelement.WebElement (session=\"cdd6e389701f9c87a8a8f10cf80d6335\", element=\"0.34832818022526535-2\")>]"
      ]
     },
     "execution_count": 4,
     "metadata": {},
     "output_type": "execute_result"
    }
   ],
   "source": [
    "form = driver.find_elements_by_class_name(\"inputIncompleto\")\n",
    "form"
   ]
  },
  {
   "cell_type": "code",
   "execution_count": 5,
   "metadata": {},
   "outputs": [],
   "source": [
    "form[0].send_keys(\"1002298-86.2015\")\n",
    "#form[0].send_keys(\"0946027-47.1999\")"
   ]
  },
  {
   "cell_type": "code",
   "execution_count": 6,
   "metadata": {},
   "outputs": [],
   "source": [
    "form[1].send_keys(\"0271\")\n",
    "#form[1].send_keys(\"01000\")"
   ]
  },
  {
   "cell_type": "code",
   "execution_count": 7,
   "metadata": {},
   "outputs": [],
   "source": [
    "driver.find_element_by_name(\"pbEnviar\").click() # wait?"
   ]
  },
  {
   "cell_type": "code",
   "execution_count": 8,
   "metadata": {},
   "outputs": [],
   "source": [
    "data_table = driver.find_element_by_xpath(\"//*[@id=\\\"tableTodasPartes\\\"]\")"
   ]
  },
  {
   "cell_type": "code",
   "execution_count": 9,
   "metadata": {},
   "outputs": [],
   "source": [
    "from bs4 import BeautifulSoup\n",
    "\n",
    "soup = BeautifulSoup(data_table.get_attribute(\"innerHTML\"), \"html.parser\")\n"
   ]
  },
  {
   "cell_type": "code",
   "execution_count": 91,
   "metadata": {},
   "outputs": [],
   "source": [
    "data_table = driver.find_element_by_xpath(\"//*[@id=\\\"tableTodasPartes\\\"]\")"
   ]
  },
  {
   "cell_type": "code",
   "execution_count": 105,
   "metadata": {},
   "outputs": [
    {
     "data": {
      "text/plain": [
       "'DOLCE DUO COMÉRCIO VAREJISTA DE DOCES BALAS BOMBONS E SEMELHANTES LTDA ME\\nAdvogada:  Paula Rodrigues da Silva \\nAdvogado:  Diego Gomes Dias \\nAdvogada:  Karina de Almeida Batistuci \\nReprtate:  MARIANA REBELLO MARQUES DA COSTA SANTOS '"
      ]
     },
     "execution_count": 105,
     "metadata": {},
     "output_type": "execute_result"
    }
   ],
   "source": [
    "data_table.find_elements_by_tag_name(\"td\")[1].text"
   ]
  },
  {
   "cell_type": "code",
   "execution_count": 93,
   "metadata": {},
   "outputs": [],
   "source": [
    "soup = BeautifulSoup(data_table.get_attribute(\"innerHTML\"), \"html.parser\")\n"
   ]
  },
  {
   "cell_type": "code",
   "execution_count": 101,
   "metadata": {},
   "outputs": [
    {
     "data": {
      "text/plain": [
       "<td align=\"right\" style=\"padding-bottom: 5px\" valign=\"top\" width=\"141\">\n",
       "<span class=\"mensagemExibindo\">Reqte: </span>\n",
       "</td>"
      ]
     },
     "execution_count": 101,
     "metadata": {},
     "output_type": "execute_result"
    }
   ],
   "source": [
    "soup.find_all(\"td\")[0]"
   ]
  },
  {
   "cell_type": "code",
   "execution_count": 3,
   "metadata": {},
   "outputs": [],
   "source": [
    "x = ['(583.00.1999.946027)', '3ª Vara de Falências e Recuperações Judiciais - Foro Central Cível', 'Falência de Empresários, Sociedades Empresáriais, Microempresas e Empresas de Pequeno Porte', 'Recuperação judicial e Falência', '0946027-47.1999.8.26.0100', '12/11/2018 00:00 - Juntada de Petição - juntada de petição 12/11/2018', 'Renata Mota Maciel Madeira Dezem', '00099946027-/7', 'R$ 15.768,89', '05/12/2017 às 10:39 - Direcionada', '2017/000067']"
   ]
  },
  {
   "cell_type": "code",
   "execution_count": 4,
   "metadata": {},
   "outputs": [
    {
     "ename": "ValueError",
     "evalue": "too many values to unpack (expected 9)",
     "output_type": "error",
     "traceback": [
      "\u001b[0;31m---------------------------------------------------------------------------\u001b[0m",
      "\u001b[0;31mValueError\u001b[0m                                Traceback (most recent call last)",
      "\u001b[0;32m<ipython-input-4-c9d2859a10ab>\u001b[0m in \u001b[0;36m<module>\u001b[0;34m\u001b[0m\n\u001b[0;32m----> 1\u001b[0;31m \u001b[0m_number\u001b[0m\u001b[0;34m,\u001b[0m \u001b[0m_class\u001b[0m\u001b[0;34m,\u001b[0m \u001b[0m_subject\u001b[0m\u001b[0;34m,\u001b[0m \u001b[0m_\u001b[0m\u001b[0;34m,\u001b[0m \u001b[0m_date_distribution\u001b[0m\u001b[0;34m,\u001b[0m \u001b[0m_local_distribution\u001b[0m\u001b[0;34m,\u001b[0m \u001b[0m_\u001b[0m\u001b[0;34m,\u001b[0m \u001b[0m_judge\u001b[0m\u001b[0;34m,\u001b[0m \u001b[0m_value\u001b[0m \u001b[0;34m=\u001b[0m \u001b[0mx\u001b[0m\u001b[0;34m\u001b[0m\u001b[0m\n\u001b[0m",
      "\u001b[0;31mValueError\u001b[0m: too many values to unpack (expected 9)"
     ]
    }
   ],
   "source": [
    "_number, _class, _subject, _, _date_distribution, _local_distribution, _, _judge, _value = x"
   ]
  },
  {
   "cell_type": "code",
   "execution_count": 5,
   "metadata": {},
   "outputs": [
    {
     "data": {
      "text/plain": [
       "11"
      ]
     },
     "execution_count": 5,
     "metadata": {},
     "output_type": "execute_result"
    }
   ],
   "source": [
    "data_table = driver.find_element_by_xpath(\"/html/body/div/table[4]/tbody/tr/td/div[1]/table[2]/tbody\")"
   ]
  },
  {
   "cell_type": "code",
   "execution_count": null,
   "metadata": {},
   "outputs": [],
   "source": []
  }
 ],
 "metadata": {
  "kernelspec": {
   "display_name": "Python 3",
   "language": "python",
   "name": "python3"
  },
  "language_info": {
   "codemirror_mode": {
    "name": "ipython",
    "version": 3
   },
   "file_extension": ".py",
   "mimetype": "text/x-python",
   "name": "python",
   "nbconvert_exporter": "python",
   "pygments_lexer": "ipython3",
   "version": "3.6.6"
  }
 },
 "nbformat": 4,
 "nbformat_minor": 2
}
