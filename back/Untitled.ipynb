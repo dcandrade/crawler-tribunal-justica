{
 "cells": [
  {
   "cell_type": "code",
   "execution_count": 1,
   "metadata": {},
   "outputs": [],
   "source": [
    "from selenium import webdriver\n",
    "URL = \"https://esaj.tjsp.jus.br/cpopg/open.do\"\n",
    "from utils import clear_string, clear_strings"
   ]
  },
  {
   "cell_type": "code",
   "execution_count": 2,
   "metadata": {},
   "outputs": [],
   "source": [
    "driver = webdriver.Chrome()"
   ]
  },
  {
   "cell_type": "code",
   "execution_count": 3,
   "metadata": {},
   "outputs": [],
   "source": [
    "driver.get(URL)"
   ]
  },
  {
   "cell_type": "code",
   "execution_count": 4,
   "metadata": {
    "scrolled": true
   },
   "outputs": [
    {
     "data": {
      "text/plain": [
       "[<selenium.webdriver.remote.webelement.WebElement (session=\"b787c128dbd168e055864189acb00c4e\", element=\"0.49874159280748853-1\")>,\n",
       " <selenium.webdriver.remote.webelement.WebElement (session=\"b787c128dbd168e055864189acb00c4e\", element=\"0.49874159280748853-2\")>]"
      ]
     },
     "execution_count": 4,
     "metadata": {},
     "output_type": "execute_result"
    }
   ],
   "source": [
    "form = driver.find_elements_by_class_name(\"inputIncompleto\")\n",
    "form"
   ]
  },
  {
   "cell_type": "code",
   "execution_count": 5,
   "metadata": {},
   "outputs": [],
   "source": [
    "#form[0].send_keys(\"1002298-86.2015\")\n",
    "form[0].send_keys(\"0946027-47.1999\")"
   ]
  },
  {
   "cell_type": "code",
   "execution_count": 6,
   "metadata": {},
   "outputs": [],
   "source": [
    "#form[1].send_keys(\"0271\")\n",
    "form[1].send_keys(\"01000\")"
   ]
  },
  {
   "cell_type": "code",
   "execution_count": 7,
   "metadata": {},
   "outputs": [],
   "source": [
    "driver.find_element_by_name(\"pbEnviar\").click() # wait?"
   ]
  },
  {
   "cell_type": "code",
   "execution_count": 22,
   "metadata": {},
   "outputs": [
    {
     "name": "stdout",
     "output_type": "stream",
     "text": [
      "<class 'list'>\n",
      "<class 'dict'>\n",
      "<class 'dict'>\n",
      "<class 'dict'>\n",
      "<class 'dict'>\n",
      "<class 'dict'>\n",
      "<class 'dict'>\n"
     ]
    }
   ],
   "source": [
    "def extract_party(party_str):\n",
    "        party_name, *raw_representants = party_str.split(\"\\n\")\n",
    "\n",
    "        representants = []\n",
    "        for rep in raw_representants:\n",
    "            role, name = rep.split(\":\")\n",
    "\n",
    "            representants.append({\n",
    "                \"Nome\": clear_string(name),\n",
    "                \"Atribuição\" : clear_string(role)\n",
    "            })\n",
    "\n",
    "        return {\n",
    "            \"Nome\" : clear_string(party_name), #TODO: clear str?(below 2)\n",
    "            \"Representantes\": representants\n",
    "        }\n",
    "\n",
    "all_parties = {}\n",
    "data_table = None\n",
    "\n",
    "try:\n",
    "    driver.find_element_by_id(\"linkpartes\").click()\n",
    "    data_table = driver.find_element_by_id(\"tableTodasPartes\")\n",
    "except:\n",
    "    data_table = driver.find_element_by_id(\"tablePartesPrincipais\")\n",
    "\n",
    "raw_entries = data_table.find_elements_by_tag_name(\"td\")\n",
    "\n",
    "for i in range(0, len(raw_entries), 2):\n",
    "    role = clear_string(raw_entries[i].text)\n",
    "    party_str = raw_entries[i+1].text\n",
    "    party = extract_party(party_str)  \n",
    "\n",
    "    role_representants = all_parties.get(role, [])\n",
    "    role_representants.append(party)\n",
    "    all_parties[role] = role_representants\n",
    "\n",
    "for i in all_parties:\n",
    "    print(type(all_parties[i]))\n",
    "    for k in all_parties[i]:\n",
    "        print(type(k))\n",
    "    #print(type(i))"
   ]
  },
  {
   "cell_type": "code",
   "execution_count": null,
   "metadata": {},
   "outputs": [],
   "source": []
  }
 ],
 "metadata": {
  "kernelspec": {
   "display_name": "Python 3",
   "language": "python",
   "name": "python3"
  },
  "language_info": {
   "codemirror_mode": {
    "name": "ipython",
    "version": 3
   },
   "file_extension": ".py",
   "mimetype": "text/x-python",
   "name": "python",
   "nbconvert_exporter": "python",
   "pygments_lexer": "ipython3",
   "version": "3.6.6"
  }
 },
 "nbformat": 4,
 "nbformat_minor": 2
}
